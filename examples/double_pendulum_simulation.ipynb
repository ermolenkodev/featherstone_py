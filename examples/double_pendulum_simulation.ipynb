{
 "cells": [
  {
   "cell_type": "code",
   "execution_count": null,
   "metadata": {},
   "outputs": [],
   "source": [
    "import numpy as np\n",
    "\n",
    "from pydrake.math import RigidTransform, RollPitchYaw\n",
    "from pydrake.multibody.plant import AddMultibodyPlantSceneGraph\n",
    "from pydrake.all import (StartMeshcat, DiagramBuilder, MeshcatVisualizerCpp,\n",
    "                        MakeRenderEngineVtk, RenderEngineVtkParams,\n",
    "                        Simulator, RotationalInertia)\n",
    "from pydrake.geometry import (\n",
    "    Box,\n",
    "    Cylinder\n",
    ")\n",
    "\n",
    "from pydrake.multibody.tree import (\n",
    "    UnitInertia,\n",
    "    SpatialInertia,\n",
    "    RevoluteJoint,\n",
    "    FixedOffsetFrame,\n",
    "    WeldJoint\n",
    ")\n",
    "\n",
    "import time\n",
    "\n",
    "from typing import Tuple, List\n",
    "from featherstone_py.example_models import DoublePendulum\n",
    "import matplotlib.pyplot as plt"
   ]
  },
  {
   "cell_type": "code",
   "execution_count": null,
   "metadata": {},
   "outputs": [],
   "source": []
  },
  {
   "cell_type": "code",
   "execution_count": null,
   "metadata": {},
   "outputs": [],
   "source": []
  },
  {
   "cell_type": "code",
   "execution_count": null,
   "metadata": {},
   "outputs": [],
   "source": []
  },
  {
   "cell_type": "markdown",
   "metadata": {},
   "source": [
    "Prepare Drake plant and all required entities"
   ]
  },
  {
   "cell_type": "code",
   "execution_count": null,
   "metadata": {
    "collapsed": false,
    "jupyter": {
     "outputs_hidden": false
    }
   },
   "outputs": [],
   "source": [
    "model_name = \"double_pendulum\""
   ]
  },
  {
   "cell_type": "code",
   "execution_count": null,
   "metadata": {
    "collapsed": false,
    "jupyter": {
     "outputs_hidden": false
    }
   },
   "outputs": [],
   "source": [
    "def create_drake_plant(model: DoublePendulum, model_name: str):\n",
    "    builder = DiagramBuilder()\n",
    "    plant, scene_graph = AddMultibodyPlantSceneGraph(builder, 1e-4)\n",
    "\n",
    "    L0, L1, L2 = model.l0, model.l1, model.l2\n",
    "    h, w, r = model.h, model.w, model.r\n",
    "    m = model.m\n",
    "\n",
    "    RGBA_Color = [0.5, 0.5, 0.5, 1]\n",
    "\n",
    "    my_model_instance = plant.AddModelInstance(model_name)\n",
    "\n",
    "    inertia_link_0 = SpatialInertia.MakeFromCentralInertia(\n",
    "        m, [0, 0, L0/2], RotationalInertia(m*(3*r**2+L0**2)/12, m*(3*r**2+L0**2)/12, m*r**2/2))\n",
    "    inertia_link_1 = SpatialInertia.MakeFromCentralInertia(\n",
    "        m, [0, 0, L1/2], RotationalInertia(m*(w**2+L1**2)/12, m*(h**2+L1**2)/12, m*(h**2+w**2)/12))\n",
    "    inertia_link_2 = SpatialInertia.MakeFromCentralInertia(\n",
    "        m, [0, 0, L2/2], RotationalInertia(m*(w**2+L2**2)/12, m*(h**2+L2**2)/12, m*(h**2+w**2)/12))\n",
    "\n",
    "    link_0 = plant.AddRigidBody(\n",
    "        \"link_0\", my_model_instance, inertia_link_0)\n",
    "    link_1 = plant.AddRigidBody(\n",
    "        \"link_1\", my_model_instance, inertia_link_1)\n",
    "    link_2 = plant.AddRigidBody(\n",
    "        \"link_2\", my_model_instance, inertia_link_2)\n",
    "\n",
    "\n",
    "    plant.RegisterVisualGeometry(\n",
    "        link_0,\n",
    "        RigidTransform(RollPitchYaw(0, 0, 0), [0, 0, L0/2]),\n",
    "        Cylinder(r, L0),\n",
    "        \"link_0\",\n",
    "        RGBA_Color)\n",
    "    plant.RegisterVisualGeometry(\n",
    "        link_1,\n",
    "        RigidTransform(RollPitchYaw(0, 0, 0), [0, 0, L1/2]),\n",
    "        Box(h, w, L1),\n",
    "        \"link_1\",\n",
    "        RGBA_Color)\n",
    "    plant.RegisterVisualGeometry(\n",
    "        link_2,\n",
    "        RigidTransform(RollPitchYaw(0, 0, 0), [0, 0, L2/2]),\n",
    "        Box(h, w, L2),\n",
    "        \"link_2\",\n",
    "        RGBA_Color)\n",
    "\n",
    "    frame_on_link_0 = plant.AddFrame(FixedOffsetFrame(\n",
    "        link_0,\n",
    "        RigidTransform(RollPitchYaw(0, 0, 0), [0, 0, L0])))\n",
    "\n",
    "    frame_on_link_1 = plant.AddFrame(FixedOffsetFrame(\n",
    "        link_1,\n",
    "        RigidTransform(RollPitchYaw(0, 0, 0), [0, 0, L1])))\n",
    "\n",
    "    plant.AddJoint(RevoluteJoint(\n",
    "        name=\"joint_0_to_1\", frame_on_parent=frame_on_link_0,\n",
    "        frame_on_child=link_1.body_frame(), axis=[1, 0, 0]))\n",
    "\n",
    "    plant.AddJoint(RevoluteJoint(\n",
    "        name=\"joint_1_to_2\", frame_on_parent=frame_on_link_1,\n",
    "        frame_on_child=link_2.body_frame(), axis=[1, 0, 0]))\n",
    "\n",
    "    plant.WeldFrames(\n",
    "        frame_on_parent_P=plant.world_frame(),\n",
    "        frame_on_child_C=link_0.body_frame(),\n",
    "        X_PC=RigidTransform(RollPitchYaw(0, 0, 0), [0, 0, 0]))\n",
    "\n",
    "    plant.Finalize()\n",
    "\n",
    "    return plant, scene_graph, builder"
   ]
  },
  {
   "cell_type": "code",
   "execution_count": null,
   "metadata": {},
   "outputs": [],
   "source": [
    "double_pendulum = DoublePendulum()"
   ]
  },
  {
   "cell_type": "code",
   "execution_count": null,
   "metadata": {
    "collapsed": false,
    "jupyter": {
     "outputs_hidden": false
    }
   },
   "outputs": [],
   "source": [
    "plant, scene_graph, builder = create_drake_plant(double_pendulum, model_name)"
   ]
  },
  {
   "cell_type": "code",
   "execution_count": null,
   "metadata": {},
   "outputs": [],
   "source": [
    "renderer_name = \"renderer\"\n",
    "scene_graph.AddRenderer(\n",
    "    renderer_name, MakeRenderEngineVtk(RenderEngineVtkParams()))\n",
    "meshcat = StartMeshcat()\n",
    "\n",
    "meshcat.Delete()\n",
    "meshcat_vis = MeshcatVisualizerCpp.AddToBuilder(\n",
    "    builder, scene_graph, meshcat)"
   ]
  },
  {
   "cell_type": "code",
   "execution_count": null,
   "metadata": {},
   "outputs": [],
   "source": [
    "diagram = builder.Build()\n",
    "diagram_context = diagram.CreateDefaultContext()"
   ]
  },
  {
   "cell_type": "code",
   "execution_count": null,
   "metadata": {},
   "outputs": [],
   "source": []
  },
  {
   "cell_type": "code",
   "execution_count": null,
   "metadata": {},
   "outputs": [],
   "source": []
  },
  {
   "cell_type": "code",
   "execution_count": null,
   "metadata": {},
   "outputs": [],
   "source": []
  },
  {
   "cell_type": "markdown",
   "metadata": {},
   "source": [
    "Run Drake and custom simulation"
   ]
  },
  {
   "cell_type": "code",
   "execution_count": null,
   "metadata": {},
   "outputs": [],
   "source": [
    "def run_drake_simulation(\n",
    "        start_position: np.ndarray,\n",
    "        time_period: float,\n",
    "        dt: float = 0.01\n",
    ") -> Tuple[List[float], List[float]]:\n",
    "    plant_context = plant.GetMyMutableContextFromRoot(diagram_context)\n",
    "\n",
    "    plant.SetPositions(plant_context, plant.GetModelInstanceByName(model_name),\n",
    "                       [start_position[0], start_position[1]])  # theta1, theta2\n",
    "\n",
    "    simulator = Simulator(diagram, diagram_context)\n",
    "    simulator.set_publish_every_time_step(True)\n",
    "    simulator.set_target_realtime_rate(1)\n",
    "    simulator.Initialize()\n",
    "    diagram.Publish(diagram_context)\n",
    "\n",
    "    elapsed = 0.\n",
    "\n",
    "    theta1_trajectory = []\n",
    "    theta2_trajectory = []\n",
    "\n",
    "    while elapsed < time_period:\n",
    "        elapsed += dt\n",
    "        simulator.AdvanceTo(elapsed)\n",
    "        state = plant.GetPositions(plant_context)\n",
    "        theta1_trajectory.append(state[0])\n",
    "        theta2_trajectory.append(state[1])\n",
    "\n",
    "    return theta1_trajectory, theta2_trajectory"
   ]
  },
  {
   "cell_type": "code",
   "execution_count": null,
   "metadata": {},
   "outputs": [],
   "source": [
    "from featherstone_py.forward_dynamics import InverseDynamicsUsingCRBA, InertiaMatrixMethod, InverseDynamicsUsingRNEA\n"
   ]
  },
  {
   "cell_type": "code",
   "execution_count": null,
   "metadata": {
    "collapsed": false,
    "jupyter": {
     "outputs_hidden": false
    }
   },
   "outputs": [],
   "source": [
    "def run_custom_simulation(\n",
    "        double_pendulum: DoublePendulum,\n",
    "        forward_dynamics: InertiaMatrixMethod,\n",
    "        start_position: np.ndarray,\n",
    "        time_period: float,\n",
    "        dt: float = 0.01\n",
    ") -> Tuple[List[float], List[float]]:\n",
    "    from featherstone_py.simulator import Simulator\n",
    "    model = double_pendulum.to_featherstone_notation()\n",
    "    # very high integration resolution is required to get results similar to Drake simulator\n",
    "    # due to usage of first order integration scheme\n",
    "    # therefore it's quite slow\n",
    "    sim = Simulator(model, forward_dynamics=forward_dynamics, integration_resolution=100)\n",
    "\n",
    "    q = start_position.copy()\n",
    "    qd = np.array([0., 0.])\n",
    "    g = np.array([0, 0, -9.81])\n",
    "    tau = np.array([0., 0.])\n",
    "\n",
    "    elapsed = 0.\n",
    "\n",
    "    theta1_trajectory = []\n",
    "    theta2_trajectory = []\n",
    "\n",
    "    while elapsed <= time_period:\n",
    "        elapsed += dt\n",
    "        q, qd = sim.advance_to(q, qd, tau, elapsed)\n",
    "        theta1_trajectory.append(q[0])\n",
    "        theta2_trajectory.append(q[1])\n",
    "\n",
    "    return theta1_trajectory, theta2_trajectory"
   ]
  },
  {
   "cell_type": "code",
   "execution_count": null,
   "metadata": {},
   "outputs": [],
   "source": [
    "time_period = 10.\n",
    "dt = 0.01\n",
    "q = np.array([2., 0.2])"
   ]
  },
  {
   "cell_type": "code",
   "execution_count": null,
   "metadata": {
    "collapsed": false,
    "jupyter": {
     "outputs_hidden": false
    }
   },
   "outputs": [],
   "source": [
    "drake_simulation_result = run_drake_simulation(q, time_period, dt)"
   ]
  },
  {
   "cell_type": "code",
   "execution_count": null,
   "metadata": {},
   "outputs": [],
   "source": [
    "%%time\n",
    "custom_simulation_result = run_custom_simulation(double_pendulum, InverseDynamicsUsingRNEA(), q, time_period, dt)"
   ]
  },
  {
   "cell_type": "code",
   "execution_count": null,
   "metadata": {},
   "outputs": [],
   "source": [
    "%%time\n",
    "custom_simulation_result = run_custom_simulation(double_pendulum, InverseDynamicsUsingCRBA(), q, time_period, dt)"
   ]
  },
  {
   "cell_type": "code",
   "execution_count": null,
   "metadata": {},
   "outputs": [],
   "source": []
  },
  {
   "cell_type": "code",
   "execution_count": null,
   "metadata": {},
   "outputs": [],
   "source": []
  },
  {
   "cell_type": "markdown",
   "metadata": {},
   "source": [
    "Compare joint trajectories plot of simulations"
   ]
  },
  {
   "cell_type": "code",
   "execution_count": null,
   "metadata": {
    "collapsed": false,
    "jupyter": {
     "outputs_hidden": false
    }
   },
   "outputs": [],
   "source": [
    "def plot_series(series1: List[float], series2: List[float], name1: str, name2: str) -> None:\n",
    "    n = min(len(series1), len(series2))\n",
    "    plt.plot(np.array(series1)[:n], label=name1, color='r')\n",
    "    plt.plot(np.array(series2)[:n], label=name2, color='g')\n",
    "    plt.show()"
   ]
  },
  {
   "cell_type": "code",
   "execution_count": null,
   "metadata": {
    "collapsed": false,
    "jupyter": {
     "outputs_hidden": false
    }
   },
   "outputs": [],
   "source": [
    "plot_series(drake_simulation_result[0], custom_simulation_result[0], 'drake_trajectory', 'custom_sim_trajectory')"
   ]
  },
  {
   "cell_type": "code",
   "execution_count": null,
   "metadata": {},
   "outputs": [],
   "source": [
    "plot_series(drake_simulation_result[1], custom_simulation_result[1], 'drake_trajectory', 'custom_sim_trajectory')"
   ]
  },
  {
   "cell_type": "code",
   "execution_count": null,
   "metadata": {},
   "outputs": [],
   "source": []
  },
  {
   "cell_type": "code",
   "execution_count": null,
   "metadata": {},
   "outputs": [],
   "source": []
  },
  {
   "cell_type": "code",
   "execution_count": null,
   "metadata": {},
   "outputs": [],
   "source": []
  },
  {
   "cell_type": "markdown",
   "metadata": {},
   "source": [
    "Animate simulation in Meshcat"
   ]
  },
  {
   "cell_type": "code",
   "execution_count": null,
   "metadata": {
    "collapsed": false,
    "jupyter": {
     "outputs_hidden": false
    }
   },
   "outputs": [],
   "source": [
    "def animate_simulation_result(dt: float, simulation_result: Tuple[List[float], List[float]]):\n",
    "    elapsed = 0.\n",
    "    idx = 0\n",
    "\n",
    "    theta1_trajectory, theta2_trajectory = simulation_result\n",
    "\n",
    "    plant_context = plant.GetMyMutableContextFromRoot(diagram_context)\n",
    "\n",
    "    start = time.time()\n",
    "    while time.time() < start + 10 and idx < len(theta1_trajectory):\n",
    "        elapsed += dt\n",
    "        time.sleep(dt)\n",
    "        plant.SetPositions(plant_context, plant.GetModelInstanceByName(model_name),\n",
    "                           [theta1_trajectory[idx], theta2_trajectory[idx]])\n",
    "        idx += 1\n",
    "        diagram.Publish(diagram_context)"
   ]
  },
  {
   "cell_type": "code",
   "execution_count": null,
   "metadata": {
    "collapsed": false,
    "jupyter": {
     "outputs_hidden": false
    }
   },
   "outputs": [],
   "source": [
    "animate_simulation_result(dt, drake_simulation_result)"
   ]
  },
  {
   "cell_type": "code",
   "execution_count": null,
   "metadata": {
    "collapsed": false,
    "jupyter": {
     "outputs_hidden": false
    }
   },
   "outputs": [],
   "source": [
    "animate_simulation_result(dt, custom_simulation_result)"
   ]
  }
 ],
 "metadata": {
  "interpreter": {
   "hash": "b8bdd2bf23435a7078b3a9486c6cbf90ca9fed8cc6eacefb8d8660da9724f4b1"
  },
  "kernelspec": {
   "display_name": "Python 3 (ipykernel)",
   "language": "python",
   "name": "python3"
  },
  "language_info": {
   "codemirror_mode": {
    "name": "ipython",
    "version": 3
   },
   "file_extension": ".py",
   "mimetype": "text/x-python",
   "name": "python",
   "nbconvert_exporter": "python",
   "pygments_lexer": "ipython3",
   "version": "3.8.10"
  }
 },
 "nbformat": 4,
 "nbformat_minor": 4
}
